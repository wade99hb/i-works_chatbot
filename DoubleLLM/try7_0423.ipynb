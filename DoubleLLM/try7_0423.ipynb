{
 "cells": [
  {
   "cell_type": "code",
   "execution_count": 5,
   "metadata": {},
   "outputs": [],
   "source": [
    "import streamlit as st\n",
    "import pandas as pd\n",
    "import ollama\n",
    "import warnings\n",
    "import pymysql\n",
    "import time\n",
    "import torch\n",
    "import re\n",
    "import matplotlib.pyplot as plt\n",
    "import plotly.express as px\n",
    "from datetime import datetime\n",
    "from PIL import Image\n",
    "import plotly.graph_objects as go\n",
    "import uuid\n",
    "import html # Import html module for escaping\n"
   ]
  },
  {
   "cell_type": "code",
   "execution_count": 6,
   "metadata": {},
   "outputs": [
    {
     "name": "stdout",
     "output_type": "stream",
     "text": [
      "CUDA Version: 11.8\n"
     ]
    }
   ],
   "source": [
    "print(\"CUDA Version:\", torch.version.cuda)\n",
    "warnings.filterwarnings(\"ignore\")"
   ]
  },
  {
   "cell_type": "code",
   "execution_count": 7,
   "metadata": {},
   "outputs": [],
   "source": [
    "try:\n",
    "    db = pymysql.connect(\n",
    "        host='localhost',\n",
    "        port=3306,\n",
    "        user='root',\n",
    "        passwd='jeminist1029', # Be cautious with hardcoding passwords\n",
    "        db='zabbix_ver1',\n",
    "        charset='utf8'\n",
    "    )\n",
    "    cursor = db.cursor()\n",
    "except pymysql.Error as e:\n",
    "    st.error(f\"DB 연결 오류: {e}\")\n",
    "    st.stop() # Stop execution if DB connection fails"
   ]
  },
  {
   "cell_type": "code",
   "execution_count": 8,
   "metadata": {},
   "outputs": [],
   "source": [
    "def FindSomething(table_name,column_name,something):\n",
    "  table_name = 'history_uint' if table_name == '*' else table_name\n",
    "  if column_name=='*' or something=='*':\n",
    "    # Consider raising an error instead of just warning\n",
    "    return warnings.warn('Given input include '*'')\n",
    "  sql = f'''\n",
    "    SELECT *\n",
    "    FROM {table_name}\n",
    "    WHERE {column_name} = {something}\n",
    "  '''\n",
    "  return sql"
   ]
  },
  {
   "cell_type": "code",
   "execution_count": 9,
   "metadata": {},
   "outputs": [],
   "source": [
    "def does_it_exist(conn, table,itemid):\n",
    "    cur = conn.cursor()\n",
    "    query = f\"\"\"\n",
    "        SELECT EXISTS(\n",
    "            SELECT 1\n",
    "            FROM {table}\n",
    "            WHERE itemid = %s  # Use parameterized query\n",
    "        ) AS row_exists;\n",
    "    \"\"\"\n",
    "    try:\n",
    "        cur.execute(query, (itemid,))\n",
    "        result = cur.fetchone()[0]\n",
    "    except pymysql.Error as e:\n",
    "        st.error(f\"DB 오류 (does_it_exist): {e}\")\n",
    "        result = 0 # Assume not exists on error\n",
    "    finally:\n",
    "        cur.close()\n",
    "    return bool(result)\n",
    "\n",
    "def exist_data(conn, itemid):\n",
    "    if does_it_exist(conn, 'history',itemid):\n",
    "        return 1\n",
    "    elif does_it_exist(conn,'history_uint',itemid):\n",
    "        return 2\n",
    "    else:\n",
    "        return 0\n"
   ]
  },
  {
   "cell_type": "code",
   "execution_count": 10,
   "metadata": {},
   "outputs": [],
   "source": [
    "def check_sql_syntax(sql):\n",
    "    temp_cursor = db.cursor()\n",
    "    try:\n",
    "        # Add LIMIT 1 to EXPLAIN to prevent potential long execution\n",
    "        temp_cursor.execute(f\"EXPLAIN {sql.strip().rstrip(';')}\") # Basic check\n",
    "        #temp_cursor.execute(f\"EXPLAIN {sql}\")\n",
    "        return True\n",
    "    except pymysql.Error as e:\n",
    "        print(f\"SQL 문법 오류 감지: {e}\") # Log for debugging\n",
    "        return False\n",
    "    finally:\n",
    "        temp_cursor.close()"
   ]
  },
  {
   "cell_type": "code",
   "execution_count": 11,
   "metadata": {},
   "outputs": [],
   "source": [
    "tmp_sql = \"\"\"\n",
    "SELECT itemid, value, FROM_UNIXTIME(clock)\n",
    "FROM history\n",
    "WHERE itemid = 40367\n",
    "AND FROM_UNIXTIME(clock) BETWEEN'2025-02-20 15:02:59' AND '2025-02-21 15:02:59'\n",
    "\"\"\""
   ]
  },
  {
   "cell_type": "code",
   "execution_count": 12,
   "metadata": {},
   "outputs": [
    {
     "data": {
      "text/plain": [
       "<function __main__.check_sql_syntax(sql)>"
      ]
     },
     "execution_count": 12,
     "metadata": {},
     "output_type": "execute_result"
    }
   ],
   "source": [
    "check_sql_syntax"
   ]
  },
  {
   "cell_type": "code",
   "execution_count": 13,
   "metadata": {},
   "outputs": [],
   "source": [
    "prompt = {'Users_Question': 'CPU 사용량을 알려줘',\n",
    " 'Searchable_infomation': {'Zabbix agent ping': '2_40331',\n",
    "  'Maximum number of open file descriptors': '2_40333',\n",
    "  'Maximum number of processes': '2_40334',\n",
    "  'Interface eth0: Inbound packets discarded': '2_42267',\n",
    "  'Interface eth0: Inbound packets with errors': '2_42269',\n",
    "  'Interface eth0: Bits received': '2_42271',\n",
    "  'Interface eth1: Inbound packets discarded': '2_42268',\n",
    "  'Interface eth1: Inbound packets with errors': '2_42270',\n",
    "  'Interface eth1: Bits received': '2_42272',\n",
    "  'Interface eth0: Outbound packets discarded': '2_42273',\n",
    "  'Interface eth0: Outbound packets with errors': '2_42275',\n",
    "  'Interface eth0: Bits sent': '2_42277',\n",
    "  'Interface eth1: Outbound packets discarded': '2_42274',\n",
    "  'Interface eth1: Outbound packets with errors': '2_42276',\n",
    "  'Interface eth1: Bits sent': '2_42278',\n",
    "  '18629 Port Check': '2_55756',\n",
    "  'Number of processes': '2_40335',\n",
    "  'Number of running processes': '2_40336',\n",
    "  'System boot time': '2_40337',\n",
    "  'Interrupts per second': '1_40338',\n",
    "  'Load average (15m avg)': '1_40339',\n",
    "  'Load average (1m avg)': '1_40340',\n",
    "  'Load average (5m avg)': '1_40341',\n",
    "  'Number of CPUs': '2_40342',\n",
    "  'Context switches per second': '1_40343',\n",
    "  'CPU utilization': '1_40376',\n",
    "  'CPU guest time': '1_40344',\n",
    "  'CPU guest nice time': '1_40345',\n",
    "  'CPU idle time': '1_40346',\n",
    "  'CPU interrupt time': '1_40347',\n",
    "  'CPU iowait time': '1_40348',\n",
    "  'CPU nice time': '1_40349',\n",
    "  'CPU softirq time': '1_40350',\n",
    "  'CPU steal time': '1_40351',\n",
    "  'CPU system time': '1_40352',\n",
    "  'CPU user time': '1_40353',\n",
    "  'System local time': '2_40355',\n",
    "  'Free swap space': '2_40359',\n",
    "  'Free swap space in %': '1_40360',\n",
    "  'Total swap space': '2_40361',\n",
    "  'System uptime': '2_40363',\n",
    "  'Number of logged in users': '2_40364',\n",
    "  'vda: Disk average queue size (avgqu-sz)': '1_42266',\n",
    "  'vdb: Disk average queue size (avgqu-sz)': '1_42259',\n",
    "  'vda: Disk read request avg waiting time (r_await)': '1_42250',\n",
    "  'vdb: Disk read request avg waiting time (r_await)': '1_42249',\n",
    "  'vda: Disk read rate': '1_42265',\n",
    "  'vdb: Disk read rate': '1_42258',\n",
    "  'vda: Disk read time (rate)': '1_42264',\n",
    "  'vdb: Disk read time (rate)': '1_42257',\n",
    "  'vda: Disk utilization': '1_42263',\n",
    "  'vdb: Disk utilization': '1_42256',\n",
    "  'vda: Disk write request avg waiting time (w_await)': '1_42252',\n",
    "  'vdb: Disk write request avg waiting time (w_await)': '1_42251',\n",
    "  'vda: Disk write rate': '1_42262',\n",
    "  'vdb: Disk write rate': '1_42255',\n",
    "  'vda: Disk write time (rate)': '1_42261',\n",
    "  'vdb: Disk write time (rate)': '1_42254',\n",
    "  'Interface eth0: Operational status': '2_42279',\n",
    "  'Interface eth0: Interface type': '2_42283',\n",
    "  'Interface eth1: Operational status': '2_42280',\n",
    "  'Interface eth1: Interface type': '2_42284',\n",
    "  '/: Free inodes in %': '1_42241',\n",
    "  '/data: Free inodes in %': '1_42242',\n",
    "  '/: Space utilization': '1_42243',\n",
    "  '/: Total space': '2_42245',\n",
    "  '/: Used space': '2_42247',\n",
    "  '/data: Space utilization': '1_42244',\n",
    "  '/data: Total space': '2_42246',\n",
    "  '/data: Used space': '2_42248',\n",
    "  'Available memory': '2_40366',\n",
    "  'Available memory in %': '1_40367',\n",
    "  'Total memory': '2_40368',\n",
    "  'Memory utilization': '1_40377',\n",
    "  'Zabbix agent availability': '2_40369'},\n",
    " 'Time_now': '2025-04-09 14:38:26'}"
   ]
  },
  {
   "cell_type": "code",
   "execution_count": 14,
   "metadata": {},
   "outputs": [
    {
     "name": "stdout",
     "output_type": "stream",
     "text": [
      "^^^^^^^^^^^^^^LLM Result^^^^^^^^^^^^^^\n",
      "SELECT itemid, value, FROM_UNIXTIME(clock)\n",
      "FROM history\n",
      "WHERE itemid = 40376\n",
      "AND FROM_UNIXTIME(clock) BETWEEN '2025-04-09 11:38:26' AND '2025-04-09 14:38:26';\n",
      "^^^^^^^^^^^^^^LLM Result^^^^^^^^^^^^^^\n",
      "\n"
     ]
    }
   ],
   "source": [
    "#LLM에 질문하기\n",
    "response = ollama.chat(model='Makint_Query_version5', messages=[\n",
    "    {\n",
    "        'role': 'user',\n",
    "        'content': str(prompt)\n",
    "    },\n",
    "])\n",
    "LLMresult = response['message']['content']\n",
    "print(\"^^^^^^^^^^^^^^LLM Result^^^^^^^^^^^^^^\")\n",
    "print(LLMresult)\n",
    "print(\"^^^^^^^^^^^^^^LLM Result^^^^^^^^^^^^^^\\n\")"
   ]
  },
  {
   "cell_type": "code",
   "execution_count": null,
   "metadata": {},
   "outputs": [],
   "source": []
  }
 ],
 "metadata": {
  "kernelspec": {
   "display_name": "dron",
   "language": "python",
   "name": "python3"
  },
  "language_info": {
   "codemirror_mode": {
    "name": "ipython",
    "version": 3
   },
   "file_extension": ".py",
   "mimetype": "text/x-python",
   "name": "python",
   "nbconvert_exporter": "python",
   "pygments_lexer": "ipython3",
   "version": "3.9.20"
  }
 },
 "nbformat": 4,
 "nbformat_minor": 2
}
